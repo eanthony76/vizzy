{
 "cells": [
  {
   "cell_type": "code",
   "execution_count": 1,
   "id": "e6d997a1-6dfb-4d69-98ae-ac27486db9d6",
   "metadata": {},
   "outputs": [
    {
     "name": "stderr",
     "output_type": "stream",
     "text": [
      "/tmp/ipykernel_9762/555447588.py:24: MatplotlibDeprecationWarning: The seaborn styles shipped by Matplotlib are deprecated since 3.6, as they no longer correspond to the styles shipped by seaborn. However, they will remain available as 'seaborn-v0_8-<style>'. Alternatively, directly use the seaborn API instead.\n",
      "  plt.style.use('seaborn-whitegrid')\n"
     ]
    }
   ],
   "source": [
    "import pandas as pd\n",
    "import matplotlib.pyplot as plt\n",
    "import seaborn as sns\n",
    "import numpy as np\n",
    "from nltk.corpus import stopwords\n",
    "from nltk.util import ngrams\n",
    "\n",
    "from sklearn.feature_extraction.text import CountVectorizer\n",
    "import gensim\n",
    "from collections import  Counter\n",
    "import string\n",
    "from nltk.stem import WordNetLemmatizer,PorterStemmer\n",
    "from nltk.tokenize import word_tokenize\n",
    "import pyLDAvis\n",
    "from wordcloud import WordCloud, STOPWORDS\n",
    "from textblob import TextBlob\n",
    "from spacy import displacy\n",
    "import nltk\n",
    "from textblob import TextBlob\n",
    "from textstat import flesch_reading_ease\n",
    "\n",
    "plt.rcParams.update({'font.size': 18})\n",
    "plt.rcParams.update({'figure.figsize': [16, 12]})\n",
    "plt.style.use('seaborn-whitegrid')"
   ]
  },
  {
   "cell_type": "code",
   "execution_count": 3,
   "id": "520071d3-3ca8-4471-a422-f7b5b5e7cae2",
   "metadata": {},
   "outputs": [],
   "source": [
    "data = pd.read_csv('~/workspace/gitlab-work/sample-dataset/text.csv')"
   ]
  },
  {
   "cell_type": "code",
   "execution_count": 6,
   "id": "09a835c1-9ed7-4743-8813-55c1374902fe",
   "metadata": {},
   "outputs": [],
   "source": [
    "column = 'Text'"
   ]
  },
  {
   "cell_type": "code",
   "execution_count": null,
   "id": "09559405-47f1-47c2-8892-f38874721a5b",
   "metadata": {},
   "outputs": [],
   "source": []
  }
 ],
 "metadata": {
  "kernelspec": {
   "display_name": "Python 3 (ipykernel)",
   "language": "python",
   "name": "python3"
  },
  "language_info": {
   "codemirror_mode": {
    "name": "ipython",
    "version": 3
   },
   "file_extension": ".py",
   "mimetype": "text/x-python",
   "name": "python",
   "nbconvert_exporter": "python",
   "pygments_lexer": "ipython3",
   "version": "3.10.9"
  }
 },
 "nbformat": 4,
 "nbformat_minor": 5
}

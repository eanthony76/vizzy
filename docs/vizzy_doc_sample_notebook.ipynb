{
 "cells": [
  {
   "cell_type": "markdown",
   "id": "aef58880",
   "metadata": {},
   "source": [
    "## Vizzy Sample Notebook (Vizzy_Doc)"
   ]
  },
  {
   "cell_type": "markdown",
   "id": "92174c6b",
   "metadata": {},
   "source": [
    "The data needed for this tutorial can be downloaded at https://www.kaggle.com/datasets/thedevastator/the-ultimate-netflix-tv-shows-and-movies-dataset?resource=download"
   ]
  },
  {
   "cell_type": "markdown",
   "id": "9a325695",
   "metadata": {},
   "source": [
    "Our first step is to get our data ready to be turned into a Vizzy object. Vizzy objects accept data as a Pandas DataFrame, so we will need to read in our CSV's as DataFrames"
   ]
  },
  {
   "cell_type": "code",
   "execution_count": 1,
   "id": "c508b38b",
   "metadata": {},
   "outputs": [],
   "source": [
    "import pandas as pd\n",
    "\n",
    "df = pd.read_csv('data/Best Shows Netflix.csv')"
   ]
  },
  {
   "cell_type": "markdown",
   "id": "742204d7",
   "metadata": {},
   "source": [
    "Let's take a look at our data"
   ]
  },
  {
   "cell_type": "code",
   "execution_count": 2,
   "id": "1990eff5",
   "metadata": {},
   "outputs": [
    {
     "data": {
      "text/html": [
       "<div>\n",
       "<style scoped>\n",
       "    .dataframe tbody tr th:only-of-type {\n",
       "        vertical-align: middle;\n",
       "    }\n",
       "\n",
       "    .dataframe tbody tr th {\n",
       "        vertical-align: top;\n",
       "    }\n",
       "\n",
       "    .dataframe thead th {\n",
       "        text-align: right;\n",
       "    }\n",
       "</style>\n",
       "<table border=\"1\" class=\"dataframe\">\n",
       "  <thead>\n",
       "    <tr style=\"text-align: right;\">\n",
       "      <th></th>\n",
       "      <th>index</th>\n",
       "      <th>TITLE</th>\n",
       "      <th>RELEASE_YEAR</th>\n",
       "      <th>SCORE</th>\n",
       "      <th>NUMBER_OF_VOTES</th>\n",
       "      <th>DURATION</th>\n",
       "      <th>NUMBER_OF_SEASONS</th>\n",
       "      <th>MAIN_GENRE</th>\n",
       "      <th>MAIN_PRODUCTION</th>\n",
       "    </tr>\n",
       "  </thead>\n",
       "  <tbody>\n",
       "    <tr>\n",
       "      <th>0</th>\n",
       "      <td>0</td>\n",
       "      <td>Breaking Bad</td>\n",
       "      <td>2008</td>\n",
       "      <td>9.5</td>\n",
       "      <td>1727694</td>\n",
       "      <td>48</td>\n",
       "      <td>5</td>\n",
       "      <td>drama</td>\n",
       "      <td>US</td>\n",
       "    </tr>\n",
       "    <tr>\n",
       "      <th>1</th>\n",
       "      <td>1</td>\n",
       "      <td>Avatar: The Last Airbender</td>\n",
       "      <td>2005</td>\n",
       "      <td>9.3</td>\n",
       "      <td>297336</td>\n",
       "      <td>24</td>\n",
       "      <td>3</td>\n",
       "      <td>scifi</td>\n",
       "      <td>US</td>\n",
       "    </tr>\n",
       "    <tr>\n",
       "      <th>2</th>\n",
       "      <td>2</td>\n",
       "      <td>Our Planet</td>\n",
       "      <td>2019</td>\n",
       "      <td>9.3</td>\n",
       "      <td>41386</td>\n",
       "      <td>50</td>\n",
       "      <td>1</td>\n",
       "      <td>documentary</td>\n",
       "      <td>GB</td>\n",
       "    </tr>\n",
       "    <tr>\n",
       "      <th>3</th>\n",
       "      <td>3</td>\n",
       "      <td>Kota Factory</td>\n",
       "      <td>2019</td>\n",
       "      <td>9.3</td>\n",
       "      <td>66985</td>\n",
       "      <td>42</td>\n",
       "      <td>2</td>\n",
       "      <td>drama</td>\n",
       "      <td>IN</td>\n",
       "    </tr>\n",
       "    <tr>\n",
       "      <th>4</th>\n",
       "      <td>4</td>\n",
       "      <td>The Last Dance</td>\n",
       "      <td>2020</td>\n",
       "      <td>9.1</td>\n",
       "      <td>108321</td>\n",
       "      <td>50</td>\n",
       "      <td>1</td>\n",
       "      <td>documentary</td>\n",
       "      <td>US</td>\n",
       "    </tr>\n",
       "  </tbody>\n",
       "</table>\n",
       "</div>"
      ],
      "text/plain": [
       "   index                       TITLE  RELEASE_YEAR  SCORE  NUMBER_OF_VOTES  \\\n",
       "0      0                Breaking Bad          2008    9.5          1727694   \n",
       "1      1  Avatar: The Last Airbender          2005    9.3           297336   \n",
       "2      2                  Our Planet          2019    9.3            41386   \n",
       "3      3                Kota Factory          2019    9.3            66985   \n",
       "4      4              The Last Dance          2020    9.1           108321   \n",
       "\n",
       "   DURATION  NUMBER_OF_SEASONS   MAIN_GENRE MAIN_PRODUCTION  \n",
       "0        48                  5        drama              US  \n",
       "1        24                  3        scifi              US  \n",
       "2        50                  1  documentary              GB  \n",
       "3        42                  2        drama              IN  \n",
       "4        50                  1  documentary              US  "
      ]
     },
     "execution_count": 2,
     "metadata": {},
     "output_type": "execute_result"
    }
   ],
   "source": [
    "df.head()"
   ]
  },
  {
   "cell_type": "markdown",
   "id": "044e1b47",
   "metadata": {},
   "source": [
    "Import the vizzy package library"
   ]
  },
  {
   "cell_type": "code",
   "execution_count": 3,
   "id": "aefa784f",
   "metadata": {},
   "outputs": [
    {
     "name": "stderr",
     "output_type": "stream",
     "text": [
      "/home/eanthony/anaconda3/lib/python3.9/site-packages/past/builtins/misc.py:45: DeprecationWarning: the imp module is deprecated in favour of importlib; see the module's documentation for alternative uses\n",
      "  from imp import reload\n",
      "/home/eanthony/anaconda3/lib/python3.9/site-packages/torch/cuda/__init__.py:497: UserWarning: Can't initialize NVML\n",
      "  warnings.warn(\"Can't initialize NVML\")\n"
     ]
    }
   ],
   "source": [
    "from vizzy import vizzy"
   ]
  },
  {
   "cell_type": "markdown",
   "id": "1c2102e4",
   "metadata": {},
   "source": [
    "The vizzy package has three types of objec|ts: vizzy_doc, vizzy_sentence, and vizzy_token"
   ]
  },
  {
   "cell_type": "markdown",
   "id": "79b7aaa9",
   "metadata": {},
   "source": [
    "Vizzy_doc takes in two required inputs: a Pandas DataFrame and column as a string value. You may also include up to five columns when you initialize your viz object."
   ]
  },
  {
   "cell_type": "markdown",
   "id": "ce34e75e",
   "metadata": {},
   "source": [
    "For our demo, we will look at the Title, Release Year, and Main Genre columns"
   ]
  },
  {
   "cell_type": "code",
   "execution_count": 4,
   "id": "197238fc",
   "metadata": {},
   "outputs": [],
   "source": [
    "viz = vizzy.vizzy_doc(df, 'TITLE', 'RELEASE_YEAR', 'MAIN_GENRE')"
   ]
  },
  {
   "cell_type": "markdown",
   "id": "f40596e9",
   "metadata": {},
   "source": [
    "Vizzy Doc objects only have one function- print_doc_stats, which will print a report for us which shows the breakdown of our data based on the columns we selected"
   ]
  },
  {
   "cell_type": "code",
   "execution_count": 5,
   "id": "ee293645",
   "metadata": {},
   "outputs": [
    {
     "name": "stdout",
     "output_type": "stream",
     "text": [
      "Here is your data summary:\n",
      "Total number of documents: 245\n",
      "Total number of TITLE: 246\n",
      "Total number of RELEASE_YEAR: 30\n",
      "Total number of MAIN_GENRE: 12\n"
     ]
    }
   ],
   "source": [
    "viz.print_doc_stats()"
   ]
  },
  {
   "cell_type": "code",
   "execution_count": null,
   "id": "8c13dc33",
   "metadata": {},
   "outputs": [],
   "source": []
  }
 ],
 "metadata": {
  "kernelspec": {
   "display_name": "Python 3 (ipykernel)",
   "language": "python",
   "name": "python3"
  },
  "language_info": {
   "codemirror_mode": {
    "name": "ipython",
    "version": 3
   },
   "file_extension": ".py",
   "mimetype": "text/x-python",
   "name": "python",
   "nbconvert_exporter": "python",
   "pygments_lexer": "ipython3",
   "version": "3.9.13"
  }
 },
 "nbformat": 4,
 "nbformat_minor": 5
}
